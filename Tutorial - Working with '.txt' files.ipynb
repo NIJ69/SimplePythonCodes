{
 "cells": [
  {
   "cell_type": "markdown",
   "metadata": {},
   "source": [
    "<h1 style=\"text-align:center;\">\n",
    "Handling .txt files with Python\n",
    "</h1>\n",
    "<p>\n",
    "◎ In this file, I will explain all (almost) the syntaxes of Python that deals with .txt files. Let's first check what a file object is. Let's create a file object by opening a .txt file.\n",
    "</p>"
   ]
  },
  {
   "cell_type": "code",
   "execution_count": 1,
   "metadata": {},
   "outputs": [
    {
     "name": "stdout",
     "output_type": "stream",
     "text": [
      "<class '_io.TextIOWrapper'>\n"
     ]
    }
   ],
   "source": [
    "file = open(\"FileName.txt\", \"r\")    # Let's ignore the syntax for now.\n",
    "\n",
    "# What is the type (class) of the file object?\n",
    "t = type(file)      # \"print(type(file))\" also works. But I made the variable \"t\", because I used it later.\n",
    "print(t)"
   ]
  },
  {
   "cell_type": "markdown",
   "metadata": {},
   "source": [
    "<p>\n",
    "◎ What are the methods that come with this class?\n",
    "</p>"
   ]
  },
  {
   "cell_type": "code",
   "execution_count": 2,
   "metadata": {},
   "outputs": [
    {
     "name": "stdout",
     "output_type": "stream",
     "text": [
      "_CHUNK_SIZE,    __class__,    __del__,    __delattr__,    __dict__\n",
      "__dir__,    __doc__,    __enter__,    __eq__,    __exit__\n",
      "__format__,    __ge__,    __getattribute__,    __getstate__,    __gt__\n",
      "__hash__,    __init__,    __init_subclass__,    __iter__,    __le__\n",
      "__lt__,    __module__,    __ne__,    __new__,    __next__\n",
      "__reduce__,    __reduce_ex__,    __repr__,    __setattr__,    __sizeof__\n",
      "__str__,    __subclasshook__,    _checkClosed,    _checkReadable,    _checkSeekable\n",
      "_checkWritable,    _finalizing,    buffer,    close,    closed\n",
      "detach,    encoding,    errors,    fileno,    flush\n",
      "isatty,    line_buffering,    name,    newlines,    read\n",
      "readable,    readline,    readlines,    reconfigure,    seek\n",
      "seekable,    tell,    truncate,    writable,    write\n",
      "write_through,    writelines,    "
     ]
    }
   ],
   "source": [
    "count = 1\n",
    "for method in dir(t):\n",
    "    if count % 5 == 0:\n",
    "        print(method)\n",
    "    else:\n",
    "        print(method, end=\",    \")\n",
    "    count +=1"
   ]
  },
  {
   "cell_type": "code",
   "execution_count": 3,
   "metadata": {},
   "outputs": [
    {
     "name": "stdout",
     "output_type": "stream",
     "text": [
      "Help on function open in module _io:\n",
      "\n",
      "open(file, mode='r', buffering=-1, encoding=None, errors=None, newline=None, closefd=True, opener=None)\n",
      "    Open file and return a stream.  Raise OSError upon failure.\n",
      "\n",
      "    file is either a text or byte string giving the name (and the path\n",
      "    if the file isn't in the current working directory) of the file to\n",
      "    be opened or an integer file descriptor of the file to be\n",
      "    wrapped. (If a file descriptor is given, it is closed when the\n",
      "    returned I/O object is closed, unless closefd is set to False.)\n",
      "\n",
      "    mode is an optional string that specifies the mode in which the file\n",
      "    is opened. It defaults to 'r' which means open for reading in text\n",
      "    mode.  Other common values are 'w' for writing (truncating the file if\n",
      "    it already exists), 'x' for creating and writing to a new file, and\n",
      "    'a' for appending (which on some Unix systems, means that all writes\n",
      "    append to the end of the file regardless of the current seek position).\n",
      "    In text mode, if encoding is not specified the encoding used is platform\n",
      "    dependent: locale.getencoding() is called to get the current locale encoding.\n",
      "    (For reading and writing raw bytes use binary mode and leave encoding\n",
      "    unspecified.) The available modes are:\n",
      "\n",
      "    ========= ===============================================================\n",
      "    Character Meaning\n",
      "    --------- ---------------------------------------------------------------\n",
      "    'r'       open for reading (default)\n",
      "    'w'       open for writing, truncating the file first\n",
      "    'x'       create a new file and open it for writing\n",
      "    'a'       open for writing, appending to the end of the file if it exists\n",
      "    'b'       binary mode\n",
      "    't'       text mode (default)\n",
      "    '+'       open a disk file for updating (reading and writing)\n",
      "    ========= ===============================================================\n",
      "\n",
      "    The default mode is 'rt' (open for reading text). For binary random\n",
      "    access, the mode 'w+b' opens and truncates the file to 0 bytes, while\n",
      "    'r+b' opens the file without truncation. The 'x' mode implies 'w' and\n",
      "    raises an `FileExistsError` if the file already exists.\n",
      "\n",
      "    Python distinguishes between files opened in binary and text modes,\n",
      "    even when the underlying operating system doesn't. Files opened in\n",
      "    binary mode (appending 'b' to the mode argument) return contents as\n",
      "    bytes objects without any decoding. In text mode (the default, or when\n",
      "    't' is appended to the mode argument), the contents of the file are\n",
      "    returned as strings, the bytes having been first decoded using a\n",
      "    platform-dependent encoding or using the specified encoding if given.\n",
      "\n",
      "    buffering is an optional integer used to set the buffering policy.\n",
      "    Pass 0 to switch buffering off (only allowed in binary mode), 1 to select\n",
      "    line buffering (only usable in text mode), and an integer > 1 to indicate\n",
      "    the size of a fixed-size chunk buffer.  When no buffering argument is\n",
      "    given, the default buffering policy works as follows:\n",
      "\n",
      "    * Binary files are buffered in fixed-size chunks; the size of the buffer\n",
      "      is chosen using a heuristic trying to determine the underlying device's\n",
      "      \"block size\" and falling back on `io.DEFAULT_BUFFER_SIZE`.\n",
      "      On many systems, the buffer will typically be 4096 or 8192 bytes long.\n",
      "\n",
      "    * \"Interactive\" text files (files for which isatty() returns True)\n",
      "      use line buffering.  Other text files use the policy described above\n",
      "      for binary files.\n",
      "\n",
      "    encoding is the name of the encoding used to decode or encode the\n",
      "    file. This should only be used in text mode. The default encoding is\n",
      "    platform dependent, but any encoding supported by Python can be\n",
      "    passed.  See the codecs module for the list of supported encodings.\n",
      "\n",
      "    errors is an optional string that specifies how encoding errors are to\n",
      "    be handled---this argument should not be used in binary mode. Pass\n",
      "    'strict' to raise a ValueError exception if there is an encoding error\n",
      "    (the default of None has the same effect), or pass 'ignore' to ignore\n",
      "    errors. (Note that ignoring encoding errors can lead to data loss.)\n",
      "    See the documentation for codecs.register or run 'help(codecs.Codec)'\n",
      "    for a list of the permitted encoding error strings.\n",
      "\n",
      "    newline controls how universal newlines works (it only applies to text\n",
      "    mode). It can be None, '', '\\n', '\\r', and '\\r\\n'.  It works as\n",
      "    follows:\n",
      "\n",
      "    * On input, if newline is None, universal newlines mode is\n",
      "      enabled. Lines in the input can end in '\\n', '\\r', or '\\r\\n', and\n",
      "      these are translated into '\\n' before being returned to the\n",
      "      caller. If it is '', universal newline mode is enabled, but line\n",
      "      endings are returned to the caller untranslated. If it has any of\n",
      "      the other legal values, input lines are only terminated by the given\n",
      "      string, and the line ending is returned to the caller untranslated.\n",
      "\n",
      "    * On output, if newline is None, any '\\n' characters written are\n",
      "      translated to the system default line separator, os.linesep. If\n",
      "      newline is '' or '\\n', no translation takes place. If newline is any\n",
      "      of the other legal values, any '\\n' characters written are translated\n",
      "      to the given string.\n",
      "\n",
      "    If closefd is False, the underlying file descriptor will be kept open\n",
      "    when the file is closed. This does not work when a file name is given\n",
      "    and must be True in that case.\n",
      "\n",
      "    A custom opener can be used by passing a callable as *opener*. The\n",
      "    underlying file descriptor for the file object is then obtained by\n",
      "    calling *opener* with (*file*, *flags*). *opener* must return an open\n",
      "    file descriptor (passing os.open as *opener* results in functionality\n",
      "    similar to passing None).\n",
      "\n",
      "    open() returns a file object whose type depends on the mode, and\n",
      "    through which the standard file operations such as reading and writing\n",
      "    are performed. When open() is used to open a file in a text mode ('w',\n",
      "    'r', 'wt', 'rt', etc.), it returns a TextIOWrapper. When used to open\n",
      "    a file in a binary mode, the returned class varies: in read binary\n",
      "    mode, it returns a BufferedReader; in write binary and append binary\n",
      "    modes, it returns a BufferedWriter, and in read/write mode, it returns\n",
      "    a BufferedRandom.\n",
      "\n",
      "    It is also possible to use a string or bytearray as a file for both\n",
      "    reading and writing. For strings StringIO can be used like a file\n",
      "    opened in a text mode, and for bytes a BytesIO can be used like a file\n",
      "    opened in a binary mode.\n",
      "\n"
     ]
    }
   ],
   "source": [
    "# The built-in function \"open()\" is used to create a file object.\n",
    "# Let's see how does this function works:\n",
    "help(open)"
   ]
  },
  {
   "cell_type": "code",
   "execution_count": 4,
   "metadata": {},
   "outputs": [
    {
     "name": "stdout",
     "output_type": "stream",
     "text": [
      "FileName.txt\n",
      "r\n"
     ]
    }
   ],
   "source": [
    "# The \"name\" method shows us the file that we are working with.\n",
    "print(file.name)\n",
    "\n",
    "# Another method \"mode\" shows us the mode we opened the file with.\n",
    "print(file.mode)"
   ]
  },
  {
   "cell_type": "markdown",
   "metadata": {},
   "source": [
    "<p>\n",
    "◎ When we open a file using the \"open()\" function, we will have to close the file explicitly after working with it. If we don't do that, we might loose the data or have unwanted results.\n",
    "</p>"
   ]
  },
  {
   "cell_type": "code",
   "execution_count": 5,
   "metadata": {},
   "outputs": [
    {
     "data": {
      "text/plain": [
       "True"
      ]
     },
     "execution_count": 5,
     "metadata": {},
     "output_type": "execute_result"
    }
   ],
   "source": [
    "# We use the \"close()\" method to close a file.\n",
    "file.close()\n",
    "\n",
    "# We can use the \"closed\" method to check whether a file is open or closed.\n",
    "file.closed"
   ]
  },
  {
   "cell_type": "markdown",
   "metadata": {},
   "source": [
    "<p>\n",
    "◎ To avoid risking data-loss and to automate the closing process, we can use context manager - a fancy name for using the \"with\" keyword - along with the \"open()\" function. Notice the syntax of context manager below, it looks like a function/ loop, right?\n",
    "</p>"
   ]
  },
  {
   "cell_type": "code",
   "execution_count": 6,
   "metadata": {},
   "outputs": [],
   "source": [
    "# To avoid loosing data, we use the \"with\" keyword (context manager) along with the \"open()\" function as mentioned below:\n",
    "with open(\"FileName.txt\", \"r\") as file:\n",
    "    ...\n",
    "    ..."
   ]
  },
  {
   "cell_type": "code",
   "execution_count": 7,
   "metadata": {},
   "outputs": [],
   "source": [
    "# Let's use the \"open()\" function for now, as we want to access the file in other cells as well.\n",
    "file = open(\"FileName.txt\", \"r\")"
   ]
  },
  {
   "cell_type": "markdown",
   "metadata": {},
   "source": [
    "<p>\n",
    "◎ There are a couple of methods available to read the contents of a .txt file. Each of these methods serves different purpose.\n",
    "</p>"
   ]
  },
  {
   "cell_type": "code",
   "execution_count": 8,
   "metadata": {},
   "outputs": [
    {
     "name": "stdout",
     "output_type": "stream",
     "text": [
      "\n"
     ]
    }
   ],
   "source": [
    "# First of all, let's check whether we opened the file for reading.\n",
    "# We can use the \"readable()\" method to do this.\n",
    "file.readable()\n",
    "\n",
    "# The \"read()\" method is used to read a file as it is. It creates a \"str\" object containing the contents of the file.\n",
    "type(file.read())\n",
    "\n",
    "# We can then print this object to see the contents of the file.\n",
    "print(file.read(30))\n"
   ]
  },
  {
   "cell_type": "markdown",
   "metadata": {},
   "source": [
    "<p>\n",
    "◎ To understand how <i>Python</i> reads and writes a .txt file properly, we have to have a clear idea of a concept called <b><i>\"File Pointer/ Stream\"</i></b>. In file handling, a file pointer is a marker or indicator that represents the current position within a file where the next operation (reading or writing) will take place. It keeps track of the position of the next byte that will be read from or written to the file.\n",
    "\n",
    "When we perform read or write operations on a file, the file pointer moves automatically to the end of the data that was read or written. This means that subsequent read or write operations will occur from the new file pointer position.\n",
    "\n",
    "With this concept in mind, let's start reading a file. There are a couple of methods available to read a file in Python. Each of these methods serves a different purpose.\n",
    "</p>"
   ]
  },
  {
   "cell_type": "code",
   "execution_count": 9,
   "metadata": {},
   "outputs": [
    {
     "name": "stdout",
     "output_type": "stream",
     "text": [
      "239\n"
     ]
    },
    {
     "data": {
      "text/plain": [
       "'\\nThe position is computed from adding offset to a reference point; the reference point is selected by the whence argument.\\nA whence value of 0 measures from the beginning of the file, 1 uses the current file position, and 2 uses the end of the file as the reference point.\\nwhence can be omitted and defaults to 0, using the beginning of the file as the reference point.\\n'"
      ]
     },
     "execution_count": 9,
     "metadata": {},
     "output_type": "execute_result"
    }
   ],
   "source": [
    "# The \"seek()\" and \"tell()\" method deals with the File Pointer's location.\n",
    "print(file.tell())      # \"tell()\" method returns the current position of the File Pointer. It takes no arguments.\n",
    "\n",
    "file.seek(10)     # The \"seek()\" method is used to relocate the File Pointer. Here we returned it at the end of the 10th character of the file.\n",
    "# The return value of tell() can be given as input to seek(), to restore a previous stream position.\n",
    "\"\"\"\n",
    "The position is computed from adding offset to a reference point; the reference point is selected by the whence argument.\n",
    "A whence value of 0 measures from the beginning of the file, 1 uses the current file position, and 2 uses the end of the file as the reference point.\n",
    "whence can be omitted and defaults to 0, using the beginning of the file as the reference point.\n",
    "\"\"\""
   ]
  },
  {
   "cell_type": "code",
   "execution_count": 10,
   "metadata": {},
   "outputs": [
    {
     "name": "stdout",
     "output_type": "stream",
     "text": [
      "<class 'str'> \n",
      "\n",
      "L ISLAM\n",
      "Welcome to my profile.\n",
      "Thank you for visit\n"
     ]
    }
   ],
   "source": [
    "\"\"\"\n",
    "The \"read()\" method reads a certain amount of the file (reads the whole file if no/ negative argument is provided)\n",
    "and returns that as a str object.\n",
    "\"\"\"\n",
    "print(type(file.read()), \"\\n\")      # Notice that the File Pointer moved to the end of the file, because we read the whole file.\n",
    "\n",
    "file.seek(5)        # Relocates the Stream at the end of the 5th character.\n",
    "\n",
    "print(file.read(50))        # Here we read the first 50 bytes from the beginning (because File Pointer is at the beginning) of the file."
   ]
  },
  {
   "cell_type": "code",
   "execution_count": 11,
   "metadata": {},
   "outputs": [
    {
     "name": "stdout",
     "output_type": "stream",
     "text": [
      "<class 'list'> \n",
      "\n",
      "['NAZMUL ISLAM\\n', 'Welcome to my profile.\\n']\n"
     ]
    }
   ],
   "source": [
    "\"\"\"\n",
    "The \"readlines()\" method returns a list of all the lines (if no/ negative argument is passed) from the File Pointer's location onward.\n",
    "The given argument (bytes/ characters) the number of lines included in the list. No more lines will be read if\n",
    "the total size of all lines so far exceeds the argument.\n",
    "\"\"\"\n",
    "print(type(file.readlines()), \"\\n\")\n",
    "\n",
    "file.seek(0)        # Here we bring the File Pointer at the beginning of the file.\n",
    "\n",
    "print(file.readlines(13))       # This makes a list of all the lines up to the 13th character.\n",
    "# Notice that the list includes the whole line of the 13th character."
   ]
  },
  {
   "cell_type": "code",
   "execution_count": 12,
   "metadata": {},
   "outputs": [
    {
     "name": "stdout",
     "output_type": "stream",
     "text": [
      "<class 'str'> \n",
      "\n",
      "L ISLAM\n"
     ]
    }
   ],
   "source": [
    "\"\"\"\n",
    "The \"readline()\" method reads a single line and returns a string object that starts from the File Pointer's location onward.\n",
    "Returns an empty string if EOF (End Of File) is hit immediately. In other words, the File Pointer is located at the end of the file.\n",
    "\"\"\"\n",
    "print(type(file.readline()), \"\\n\")\n",
    "\n",
    "file.seek(5)        # Same thing. Guess what?\n",
    "\n",
    "print(file.readline(), end=\"\")"
   ]
  },
  {
   "cell_type": "code",
   "execution_count": 13,
   "metadata": {},
   "outputs": [
    {
     "name": "stdout",
     "output_type": "stream",
     "text": [
      "NAZMUL ISLAM\n",
      "\n",
      "Welcome to my profile.\n",
      "\n",
      "Thank you for visiting my profile.\n",
      "\n",
      "Lots fo LOVE from me.\n",
      "\n",
      "Now let's make a list:\n",
      "\n",
      "    1. Wake up early in the morning.\n",
      "\n",
      "    2. Start the day with Al-fajr.\n",
      "\n",
      "    3. Get ready to face the world.\n",
      "\n",
      "    ...\n"
     ]
    }
   ],
   "source": [
    "# By default, if we loop through a file, it loops through the lines\n",
    "file.seek(0)\n",
    "for line in file:\n",
    "    print(line)\n",
    "# Notice, the \"print()\" function has a built-in \"\\n\" and every line in the file has one \"\\n\" resulting in 2 newlines. Can you fix it?"
   ]
  },
  {
   "cell_type": "markdown",
   "metadata": {},
   "source": [
    "<p>\n",
    "◎ So far, we focused on reading the contents of a file. Let's now discuss how we can write on a .txt file. Here, like reading, Python has a couple of methods as well, each serving a different purpose.\n",
    "</p>"
   ]
  },
  {
   "cell_type": "code",
   "execution_count": 14,
   "metadata": {},
   "outputs": [
    {
     "name": "stdout",
     "output_type": "stream",
     "text": [
      "False\n"
     ]
    }
   ],
   "source": [
    "# At first, let's check whether we opened the file for reading using \"writable()\" method.\n",
    "print(file.writable())"
   ]
  },
  {
   "cell_type": "code",
   "execution_count": 15,
   "metadata": {},
   "outputs": [],
   "source": [
    "# left = True\n",
    "\n",
    "# for number in range(1, 25):\n",
    "#   if number % 3 == 0:\n",
    "#     if left:\n",
    "#       print(f\"{number}, Left\", end=\", \")\n",
    "#       left = not left\n",
    "#     else:\n",
    "#       print(f\"{number}, Right\", end=\", \")\n",
    "#       left = not left\n",
    "#   else:\n",
    "#     print(number, end=\", \")"
   ]
  },
  {
   "cell_type": "code",
   "execution_count": 11,
   "metadata": {},
   "outputs": [],
   "source": [
    "\"\"\"\n",
    "The \"write()\" method writes the contents of string to the file, returning the number\n",
    "of characters written. Opening a file in \"w\" automatically truncates the file, meaning\n",
    "existing contents are truncated.\n",
    "\"\"\"\n",
    "with open(\"text.txt\", \"w\") as f:\n",
    "    f.write(\"Ah!!! a lot of things to learn in one day.\")"
   ]
  },
  {
   "cell_type": "code",
   "execution_count": 10,
   "metadata": {},
   "outputs": [],
   "source": [
    "\"\"\"\n",
    "The \"writelines()\" method writes a list of lines to the stream. It takes a list of strings and\n",
    "writes them on the file.\n",
    "\"\"\"\n",
    "with open(\"text.txt\", \"a\") as f:\n",
    "    f.writelines([\"this is a line\\n\", \"No, this is a line\\n\", \"okay, you are wrong\\n\"])\n",
    "# Here we used mode \"a\", which means to append. In this mode, everything we write will be added next to the existing contents."
   ]
  }
 ],
 "metadata": {
  "kernelspec": {
   "display_name": "Python 3",
   "language": "python",
   "name": "python3"
  },
  "language_info": {
   "codemirror_mode": {
    "name": "ipython",
    "version": 3
   },
   "file_extension": ".py",
   "mimetype": "text/x-python",
   "name": "python",
   "nbconvert_exporter": "python",
   "pygments_lexer": "ipython3",
   "version": "3.12.2"
  }
 },
 "nbformat": 4,
 "nbformat_minor": 2
}
