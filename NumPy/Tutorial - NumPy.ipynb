{
 "cells": [
  {
   "cell_type": "markdown",
   "metadata": {},
   "source": [
    "<h1 style=\"text-align:center;\">\n",
    "NumPy\n",
    "</h1>\n",
    "<p>\n",
    "◎ In this file, we will learn about the python module/ library \"NumPy\". It is one of the most useful library for data analysis. NumPy itself does not have a full form in the traditional sense. It refers to \"Numerical Python,\" but it's not an acronym.\n",
    "</p>"
   ]
  },
  {
   "cell_type": "code",
   "execution_count": 30,
   "metadata": {},
   "outputs": [
    {
     "name": "stdout",
     "output_type": "stream",
     "text": [
      "56\n",
      "30\n",
      "---------------\n",
      "[1, 3, '---', 7, 9]\n",
      "[1, 3, '---', 7, 9]\n",
      "---------------\n",
      "[1, 3, '---', 7, 9]\n",
      "[1, 3, 5, 7, 9]\n"
     ]
    }
   ],
   "source": [
    "\"\"\"\n",
    "Before learning \"NumPy\", we should learn an important feature of Python lists. In Python, when we create a variable and store a data in that,\n",
    "then when we assign that variable to another variable, Python, in the  backend, stores the new variable in a separate memory. So now, we have\n",
    "two variable with same data which are stored in two separate location. Therefore, if we change one, the other will remain unaffected.\n",
    "\"\"\"\n",
    "# Example:\n",
    "a = 56\n",
    "b = a\n",
    "b = 30      # Note that, changing the value of b will not affect a.\n",
    "\n",
    "print(a)\n",
    "print(b)\n",
    "print(\"---\" * 5)\n",
    "\n",
    "\"\"\"\n",
    "But for lists, when we assign the first variable to the second one, both of these variables point to the same data in the same memory location.\n",
    "So, changing one affects the other.\n",
    "\"\"\"\n",
    "# Example\n",
    "x = [i for i in range(10) if i % 2 != 0]        # x = [1, 3, 5, 7, 9]\n",
    "y = x\n",
    "y[2] = \"---\"        # Note that, this assignment will affect both x and y.\n",
    "\n",
    "print(y)\n",
    "print(x)\n",
    "print(\"---\" * 5)\n",
    "\n",
    "# To make an actual copy of the main list, we can use slicing or the 'copy()' method of lists.\n",
    "x = [i for i in range(10) if i % 2 != 0]\n",
    "y = x.copy()        # y = x[:]\n",
    "y[2] = \"---\"\n",
    "\n",
    "print(y)\n",
    "print(x)"
   ]
  },
  {
   "cell_type": "markdown",
   "metadata": {},
   "source": [
    "<p>\n",
    "◎ You might occasionally hear an array referred to as a “ndarray,” which is shorthand for “N-dimensional array.” An N-dimensional array is simply an array with any number of dimensions. You might also hear 1-D, or one-dimensional array, 2-D, or two-dimensional array, and so on. The NumPy \"ndarray\" class is used to represent both matrices and vectors. A vector is an array with a single dimension (there’s no difference between row and column vectors), while a matrix refers to an array with two dimensions. For 3-D or higher dimensional arrays, the term tensor is also commonly used.\n",
    "</p>"
   ]
  },
  {
   "cell_type": "code",
   "execution_count": 35,
   "metadata": {},
   "outputs": [
    {
     "name": "stdout",
     "output_type": "stream",
     "text": [
      "[ 0  1  2  3  4  5  6 69  8  9]\n",
      "[ 5  6 69  8  9]\n"
     ]
    }
   ],
   "source": [
    "# Conventional way import NumPy:-\n",
    "import numpy as np\n",
    "\n",
    "\"\"\"\n",
    "For 'NumPy' arrays, even the slicing doesn't create a new copy. We have to use the 'copy()' method to make a copy of an array.\n",
    "\"\"\"\n",
    "d = np.array([i for i in range(10)])\n",
    "c = d[5:]\n",
    "c[2] = 69\n",
    "\n",
    "print(d)\n",
    "print(c)"
   ]
  },
  {
   "cell_type": "code",
   "execution_count": null,
   "metadata": {},
   "outputs": [],
   "source": [
    "\"\"\"\n",
    "In 'NumPy', the word \"axis\" can take n values for an N-dimensional array. 0 means, the function will be applied row-wise,\n",
    "and 1 means the function will work column-wise, and so on.\n",
    "\"\"\""
   ]
  },
  {
   "cell_type": "code",
   "execution_count": null,
   "metadata": {},
   "outputs": [],
   "source": [
    "a = np.array([[1,2,3,4,5],[6,7,8,9,10],[11,12,13,14,15]])\n",
    "\n",
    "print(a[1,3]) # array_name[row_index, column_index]. Negative index can be used here as well.\n",
    "print(a[1][3]) # Slicing\n",
    "\n",
    "# Combination of indexing and slicing:\n",
    "print(a[:,2::-1])"
   ]
  },
  {
   "cell_type": "code",
   "execution_count": 40,
   "metadata": {},
   "outputs": [
    {
     "data": {
      "text/plain": [
       "array([[[1, 1, 1, 1],\n",
       "        [1, 1, 1, 1],\n",
       "        [1, 1, 1, 1]],\n",
       "\n",
       "       [[1, 1, 1, 1],\n",
       "        [1, 1, 1, 1],\n",
       "        [1, 1, 1, 1]]], dtype=int16)"
      ]
     },
     "execution_count": 40,
     "metadata": {},
     "output_type": "execute_result"
    }
   ],
   "source": [
    "a = np.ones((2,3,4),dtype='int16')\n",
    "a\n",
    "# a.sum(axis=0)"
   ]
  }
 ],
 "metadata": {
  "kernelspec": {
   "display_name": "Python 3",
   "language": "python",
   "name": "python3"
  },
  "language_info": {
   "codemirror_mode": {
    "name": "ipython",
    "version": 3
   },
   "file_extension": ".py",
   "mimetype": "text/x-python",
   "name": "python",
   "nbconvert_exporter": "python",
   "pygments_lexer": "ipython3",
   "version": "3.12.2"
  }
 },
 "nbformat": 4,
 "nbformat_minor": 2
}
