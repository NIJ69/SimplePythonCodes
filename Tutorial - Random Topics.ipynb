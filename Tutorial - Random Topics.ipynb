{
 "cells": [
  {
   "cell_type": "markdown",
   "metadata": {},
   "source": [
    "<h2 style=\"text-align:center;\">\n",
    "Tuple Unpacking\n",
    "</h2>\n",
    "<p>\n",
    "◎ Tuple unpacking is a feature in Python that allows us to assign the values of a tuple (or any iterable) to individual variables. It's a convenient way to assign multiple values at once.\n",
    "</p>"
   ]
  },
  {
   "cell_type": "code",
   "execution_count": 3,
   "metadata": {},
   "outputs": [
    {
     "name": "stdout",
     "output_type": "stream",
     "text": [
      "x: 1\t y: 2\t z: 3\n",
      "r: 9\t s: 5\t t: [2, 3, 6]\n",
      "u: 10\t v: 20\t rest: [30, 40, 50, 60, 70, 80, 90]\n"
     ]
    }
   ],
   "source": [
    "# Basic tuple unpacking:-\n",
    "a = (1, 2, 3)\n",
    "x, y, z = a\n",
    "\n",
    "print(f\"x: {x}\\t y: {y}\\t z: {z}\")\n",
    "\n",
    "# Nested tuple unpacking:-\n",
    "b = (9, 5, [2, 3, 6])\n",
    "r, s, t = b\n",
    "\n",
    "print(f\"r: {r}\\t s: {s}\\t t: {t}\")\n",
    "\n",
    "\"\"\"\n",
    "Extended unpacking is an extension of tuple unpacking introduced in Python 3, which allows us\n",
    "to collect multiple items into a list using the '*' operator. Extended unpacking is particularly useful\n",
    "when we want to extract some elements from a sequence and collect the remaining elements into a list,\n",
    "providing flexibility and convenience in handling variable-length sequences.\n",
    "\"\"\"\n",
    "c = [10, 20, 30, 40, 50, 60, 70, 80, 90]\n",
    "u, v, *rest = c\n",
    "\n",
    "print(f\"u: {u}\\t v: {v}\\t rest: {rest}\")"
   ]
  }
 ],
 "metadata": {
  "kernelspec": {
   "display_name": "Python 3",
   "language": "python",
   "name": "python3"
  },
  "language_info": {
   "codemirror_mode": {
    "name": "ipython",
    "version": 3
   },
   "file_extension": ".py",
   "mimetype": "text/x-python",
   "name": "python",
   "nbconvert_exporter": "python",
   "pygments_lexer": "ipython3",
   "version": "3.12.2"
  }
 },
 "nbformat": 4,
 "nbformat_minor": 2
}
